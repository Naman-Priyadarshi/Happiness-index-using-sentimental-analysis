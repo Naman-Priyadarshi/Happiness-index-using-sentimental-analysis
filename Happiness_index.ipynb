{
 "cells": [
  {
   "cell_type": "code",
   "execution_count": 9,
   "id": "4e949524-53fa-4341-a68f-c2f26abd24ba",
   "metadata": {},
   "outputs": [
    {
     "name": "stdout",
     "output_type": "stream",
     "text": [
      "                 state  happiness_index_BOW  happiness_index_Roberta\n",
      "0         andhra_clean             0.787064                 0.787064\n",
      "23        sikkim_clean             0.777304                 0.777304\n",
      "19      nagaland_clean             0.775763                 0.775763\n",
      "18       mizoram_clean             0.773004                 0.773004\n",
      "8        gujarat_clean             0.772378                 0.772378\n",
      "11     jharkhand_clean             0.769695                 0.769695\n",
      "10      himachal_clean             0.769632                 0.769632\n",
      "26       tripura_clean             0.764386                 0.764386\n",
      "16       manipur_clean             0.763541                 0.763541\n",
      "17           meg_clean             0.762948                 0.762948\n",
      "28  uttarpradesh_clean             0.761488                 0.761488\n",
      "27   uttarakhand_clean             0.759554                 0.759554\n",
      "22           raj_clean             0.757844                 0.757844\n",
      "3         bengal_clean             0.756806                 0.756806\n",
      "14        madhya_clean             0.756752                 0.756752\n",
      "24         tamil_clean             0.756686                 0.756686\n",
      "5           chat_clean             0.756297                 0.756297\n",
      "4          bihar_clean             0.754074                 0.754074\n",
      "2          assam_clean             0.753679                 0.753679\n",
      "25           tel_clean             0.752869                 0.752869\n",
      "13        kerala_clean             0.752107                 0.752107\n",
      "9        haryana_clean             0.751327                 0.751327\n",
      "15    maharastra_clean             0.751084                 0.751084\n",
      "21        punjab_clean             0.750590                 0.750590\n",
      "20        odisha_clean             0.750499                 0.750499\n",
      "6          delhi_clean             0.749971                 0.749971\n",
      "1     arunanchal_clean             0.746344                 0.746344\n",
      "7            goa_clean             0.744560                 0.744560\n",
      "12     karnataka_clean             0.742572                 0.742572\n"
     ]
    }
   ],
   "source": [
    "import pandas as pd\n",
    "\n",
    "file_path_bow = 'merged_result_BOW.csv'\n",
    "file_path_roberta = 'merged_result_roberta.csv'\n",
    "\n",
    "df_bow = pd.read_csv(file_path_bow)\n",
    "df_roberta = pd.read_csv(file_path_roberta)\n",
    "\n",
    "# Find the maximum sentiment score for each row\n",
    "df_bow['max_sentiment'] = df_bow[['negative', 'positive', 'neutral']].max(axis=1)\n",
    "df_roberta['max_sentiment'] = df_roberta[['negative', 'positive', 'neutral']].max(axis=1)\n",
    "\n",
    "# Define the happiness index formula\n",
    "weight_max_sentiment = 1\n",
    "\n",
    "# Calculate the happiness index for each state\n",
    "df_bow['happiness_index'] = weight_max_sentiment * df_bow['max_sentiment']\n",
    "df_roberta['happiness_index'] = weight_max_sentiment * df_roberta['max_sentiment']\n",
    "\n",
    "# Create a table with relevant information\n",
    "result_table_bow = df_bow[['state', 'happiness_index']].groupby('state').mean().reset_index()\n",
    "result_table_roberta = df_roberta[['state', 'happiness_index']].groupby('state').mean().reset_index()\n",
    "\n",
    "# Merge the results from both analyses (if needed)\n",
    "result_table = pd.merge(result_table_bow, result_table_roberta, on='state', suffixes=('_BOW', '_Roberta'))\n",
    "\n",
    "# Sort the table with descending values based on happiness index\n",
    "result_table = result_table.sort_values(by='happiness_index_BOW', ascending=False)\n",
    "\n",
    "# Print or save the result_table to a CSV file\n",
    "print(result_table)\n",
    "\n",
    "# To save to a CSV file\n",
    "result_table.to_csv('happiness_index_table_sorted.csv', index=False)\n"
   ]
  }
 ],
 "metadata": {
  "kernelspec": {
   "display_name": "Python 3 (ipykernel)",
   "language": "python",
   "name": "python3"
  },
  "language_info": {
   "codemirror_mode": {
    "name": "ipython",
    "version": 3
   },
   "file_extension": ".py",
   "mimetype": "text/x-python",
   "name": "python",
   "nbconvert_exporter": "python",
   "pygments_lexer": "ipython3",
   "version": "3.10.11"
  }
 },
 "nbformat": 4,
 "nbformat_minor": 5
}
