{
 "cells": [
  {
   "cell_type": "code",
   "execution_count": 4,
   "id": "e8ee50e6-f5df-41d8-8689-d8570fa4fac6",
   "metadata": {},
   "outputs": [],
   "source": [
    "import pandas as pd\n",
    "\n",
    "# Load the CSV files into pandas dataframes\n",
    "combined_columns_df = pd.read_csv('combined_columns.csv', low_memory=False)\n",
    "analysis_values_df = pd.read_csv('Tweets_Sentiment_Analysis_RoBERTa_Raw_Values.csv')\n",
    "\n",
    "# Merge the dataframes based on the 'id' column\n",
    "merged_df = pd.merge(analysis_values_df, combined_columns_df[['id', 'state']], on='id', how='left')\n",
    "\n",
    "# Update the 'state' column in the merged dataframe with non-null values\n",
    "merged_df['state'].fillna('', inplace=True)\n",
    "\n",
    "# Save the merged dataframe to a new CSV file\n",
    "merged_df.to_csv('merged_result_roberta.csv', index=False)\n"
   ]
  },
  {
   "cell_type": "code",
   "execution_count": 6,
   "id": "d195a9db-55ba-4d2c-8a9f-c8af629872eb",
   "metadata": {},
   "outputs": [],
   "source": [
    "import pandas as pd\n",
    "\n",
    "# Load the CSV files into pandas dataframes\n",
    "combined_columns_df = pd.read_csv('combined_columns.csv', low_memory=False)\n",
    "analysis_values_df = pd.read_csv('Tweets_Sentiment_Analysis_BOW_Raw_Values.csv')\n",
    "\n",
    "# Merge the dataframes based on the 'id' column\n",
    "merged_df = pd.merge(analysis_values_df, combined_columns_df[['id', 'state']], on='id', how='left')\n",
    "\n",
    "# Update the 'state' column in the merged dataframe with non-null values\n",
    "merged_df['state'].fillna('', inplace=True)\n",
    "\n",
    "# Save the merged dataframe to a new CSV file\n",
    "merged_df.to_csv('merged_result_BOW.csv', index=False)\n"
   ]
  },
  {
   "cell_type": "code",
   "execution_count": null,
   "id": "d362dc43-994c-4b43-97b2-25dad4ac34fc",
   "metadata": {},
   "outputs": [],
   "source": []
  }
 ],
 "metadata": {
  "kernelspec": {
   "display_name": "Python 3 (ipykernel)",
   "language": "python",
   "name": "python3"
  },
  "language_info": {
   "codemirror_mode": {
    "name": "ipython",
    "version": 3
   },
   "file_extension": ".py",
   "mimetype": "text/x-python",
   "name": "python",
   "nbconvert_exporter": "python",
   "pygments_lexer": "ipython3",
   "version": "3.10.11"
  }
 },
 "nbformat": 4,
 "nbformat_minor": 5
}
