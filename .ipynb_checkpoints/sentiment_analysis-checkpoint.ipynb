{
 "cells": [
  {
   "cell_type": "code",
   "execution_count": 1,
   "id": "8fa10187-8924-4291-a8e4-13dbf38b63f4",
   "metadata": {},
   "outputs": [
    {
     "name": "stderr",
     "output_type": "stream",
     "text": [
      "[nltk_data] Downloading package stopwords to\n",
      "[nltk_data]     C:\\Users\\naman\\AppData\\Roaming\\nltk_data...\n",
      "[nltk_data]   Package stopwords is already up-to-date!\n"
     ]
    }
   ],
   "source": [
    "# utilities\n",
    "import re\n",
    "import pickle\n",
    "import numpy as np\n",
    "import pandas as pd\n",
    "\n",
    "# plotting\n",
    "import seaborn as sns\n",
    "from wordcloud import WordCloud, STOPWORDS, ImageColorGenerator\n",
    "import matplotlib.pyplot as plt\n",
    "import plotly.express as px\n",
    "import plotly.figure_factory as ff\n",
    "\n",
    "\n",
    "# nltk\n",
    "import nltk\n",
    "nltk.download('stopwords')\n",
    "from nltk.corpus import stopwords\n",
    "from nltk.stem import WordNetLemmatizer\n",
    "\n",
    "# important libraries\n",
    "from bokeh.plotting import figure\n",
    "from bokeh.io import output_file, show, output_notebook\n",
    "from collections import Counter\n",
    "import spacy\n",
    "from spacy.util import compounding\n",
    "from spacy.util import minibatch\n",
    "from spacy import displacy\n",
    "import gc\n",
    "import os\n",
    "\n",
    "# sklearn\n",
    "from sklearn.svm import LinearSVC\n",
    "from sklearn.naive_bayes import BernoulliNB\n",
    "from sklearn.linear_model import LogisticRegression\n",
    "from sklearn.discriminant_analysis import LinearDiscriminantAnalysis\n",
    "from sklearn.neighbors import KNeighborsClassifier\n",
    "from sklearn.tree import DecisionTreeClassifier\n",
    "from sklearn.ensemble import RandomForestClassifier\n",
    "\n",
    "from sklearn.model_selection import train_test_split\n",
    "from sklearn import metrics\n",
    "from sklearn.feature_extraction.text import TfidfVectorizer\n",
    "from sklearn.metrics import confusion_matrix, classification_report"
   ]
  },
  {
   "cell_type": "code",
   "execution_count": 3,
   "id": "aa511beb-adda-4759-99d3-9a06b9d9e2c2",
   "metadata": {},
   "outputs": [],
   "source": [
    "df = pd.read_csv('combined_columns.csv', low_memory=False)"
   ]
  },
  {
   "cell_type": "code",
   "execution_count": 4,
   "id": "66b1c244-4671-4179-8efe-072f033e1e33",
   "metadata": {},
   "outputs": [
    {
     "data": {
      "text/plain": [
       "(15752, 105)"
      ]
     },
     "execution_count": 4,
     "metadata": {},
     "output_type": "execute_result"
    }
   ],
   "source": [
    "df.shape"
   ]
  },
  {
   "cell_type": "code",
   "execution_count": 5,
   "id": "c3a363f7-1991-4a66-bba2-640a0b613aa5",
   "metadata": {},
   "outputs": [
    {
     "data": {
      "text/plain": [
       "Index(['avatar', 'fullname', 'id', 'images/0', 'images/1', 'images/2',\n",
       "       'images/3', 'isQuote', 'isRetweet', 'likes',\n",
       "       ...\n",
       "       'quotedTweet/links/21', 'quotedTweet/links/22', 'quotedTweet/links/23',\n",
       "       'quotedTweet/links/24', 'quotedTweet/links/25', 'quotedTweet/links/26',\n",
       "       'quotedTweet/links/27', 'quotedTweet/links/28', 'quotedTweet/links/29',\n",
       "       'images/6'],\n",
       "      dtype='object', length=105)"
      ]
     },
     "execution_count": 5,
     "metadata": {},
     "output_type": "execute_result"
    }
   ],
   "source": [
    "df.columns"
   ]
  },
  {
   "cell_type": "code",
   "execution_count": 6,
   "id": "dfe21dcd-bb18-4aae-bbeb-cf1ca4634750",
   "metadata": {},
   "outputs": [
    {
     "name": "stdout",
     "output_type": "stream",
     "text": [
      "<class 'pandas.core.frame.DataFrame'>\n",
      "RangeIndex: 15752 entries, 0 to 15751\n",
      "Columns: 105 entries, avatar to images/6\n",
      "dtypes: bool(4), int64(9), object(92)\n",
      "memory usage: 12.2+ MB\n"
     ]
    }
   ],
   "source": [
    "df.info()"
   ]
  },
  {
   "cell_type": "code",
   "execution_count": 7,
   "id": "90f2108c-7feb-4a27-92da-fafd48717d50",
   "metadata": {},
   "outputs": [
    {
     "data": {
      "text/plain": [
       "images/6                15751\n",
       "quotedTweet/links/28    15751\n",
       "links/29                15751\n",
       "quotedTweet/links/24    15751\n",
       "quotedTweet/links/25    15751\n",
       "                        ...  \n",
       "user/totalLikes             0\n",
       "user/totalTweets            0\n",
       "user/url                    0\n",
       "user/verified               0\n",
       "timestamp                   0\n",
       "Length: 105, dtype: int64"
      ]
     },
     "execution_count": 7,
     "metadata": {},
     "output_type": "execute_result"
    }
   ],
   "source": [
    "df.isna().sum().sort_values(ascending=False)"
   ]
  },
  {
   "cell_type": "code",
   "execution_count": 8,
   "id": "b4db548c-37a3-4953-8b26-9495e082e896",
   "metadata": {},
   "outputs": [
    {
     "data": {
      "text/html": [
       "<div>\n",
       "<style scoped>\n",
       "    .dataframe tbody tr th:only-of-type {\n",
       "        vertical-align: middle;\n",
       "    }\n",
       "\n",
       "    .dataframe tbody tr th {\n",
       "        vertical-align: top;\n",
       "    }\n",
       "\n",
       "    .dataframe thead th {\n",
       "        text-align: right;\n",
       "    }\n",
       "</style>\n",
       "<table border=\"1\" class=\"dataframe\">\n",
       "  <thead>\n",
       "    <tr style=\"text-align: right;\">\n",
       "      <th></th>\n",
       "      <th>avatar</th>\n",
       "      <th>fullname</th>\n",
       "      <th>id</th>\n",
       "      <th>images/0</th>\n",
       "      <th>images/1</th>\n",
       "      <th>images/2</th>\n",
       "      <th>images/3</th>\n",
       "      <th>isQuote</th>\n",
       "      <th>isRetweet</th>\n",
       "      <th>likes</th>\n",
       "      <th>...</th>\n",
       "      <th>quotedTweet/links/21</th>\n",
       "      <th>quotedTweet/links/22</th>\n",
       "      <th>quotedTweet/links/23</th>\n",
       "      <th>quotedTweet/links/24</th>\n",
       "      <th>quotedTweet/links/25</th>\n",
       "      <th>quotedTweet/links/26</th>\n",
       "      <th>quotedTweet/links/27</th>\n",
       "      <th>quotedTweet/links/28</th>\n",
       "      <th>quotedTweet/links/29</th>\n",
       "      <th>images/6</th>\n",
       "    </tr>\n",
       "  </thead>\n",
       "  <tbody>\n",
       "    <tr>\n",
       "      <th>904</th>\n",
       "      <td>NaN</td>\n",
       "      <td>NaN</td>\n",
       "      <td>1363899157388222464</td>\n",
       "      <td>NaN</td>\n",
       "      <td>NaN</td>\n",
       "      <td>NaN</td>\n",
       "      <td>NaN</td>\n",
       "      <td>True</td>\n",
       "      <td>False</td>\n",
       "      <td>0</td>\n",
       "      <td>...</td>\n",
       "      <td>NaN</td>\n",
       "      <td>NaN</td>\n",
       "      <td>NaN</td>\n",
       "      <td>NaN</td>\n",
       "      <td>NaN</td>\n",
       "      <td>NaN</td>\n",
       "      <td>NaN</td>\n",
       "      <td>NaN</td>\n",
       "      <td>NaN</td>\n",
       "      <td>NaN</td>\n",
       "    </tr>\n",
       "    <tr>\n",
       "      <th>1120</th>\n",
       "      <td>https://pbs.twimg.com/profile_images/121597740...</td>\n",
       "      <td>Piyush Daga</td>\n",
       "      <td>1285845237424730113</td>\n",
       "      <td>https://pbs.twimg.com/media/EdgsX80XkAAo0Ok.png</td>\n",
       "      <td>NaN</td>\n",
       "      <td>NaN</td>\n",
       "      <td>NaN</td>\n",
       "      <td>True</td>\n",
       "      <td>False</td>\n",
       "      <td>0</td>\n",
       "      <td>...</td>\n",
       "      <td>NaN</td>\n",
       "      <td>NaN</td>\n",
       "      <td>NaN</td>\n",
       "      <td>NaN</td>\n",
       "      <td>NaN</td>\n",
       "      <td>NaN</td>\n",
       "      <td>NaN</td>\n",
       "      <td>NaN</td>\n",
       "      <td>NaN</td>\n",
       "      <td>NaN</td>\n",
       "    </tr>\n",
       "    <tr>\n",
       "      <th>1286</th>\n",
       "      <td>NaN</td>\n",
       "      <td>NaN</td>\n",
       "      <td>1475620540215791618</td>\n",
       "      <td>NaN</td>\n",
       "      <td>NaN</td>\n",
       "      <td>NaN</td>\n",
       "      <td>NaN</td>\n",
       "      <td>False</td>\n",
       "      <td>False</td>\n",
       "      <td>1</td>\n",
       "      <td>...</td>\n",
       "      <td>NaN</td>\n",
       "      <td>NaN</td>\n",
       "      <td>NaN</td>\n",
       "      <td>NaN</td>\n",
       "      <td>NaN</td>\n",
       "      <td>NaN</td>\n",
       "      <td>NaN</td>\n",
       "      <td>NaN</td>\n",
       "      <td>NaN</td>\n",
       "      <td>NaN</td>\n",
       "    </tr>\n",
       "    <tr>\n",
       "      <th>1500</th>\n",
       "      <td>NaN</td>\n",
       "      <td>NaN</td>\n",
       "      <td>1004314560273080321</td>\n",
       "      <td>NaN</td>\n",
       "      <td>NaN</td>\n",
       "      <td>NaN</td>\n",
       "      <td>NaN</td>\n",
       "      <td>False</td>\n",
       "      <td>False</td>\n",
       "      <td>3</td>\n",
       "      <td>...</td>\n",
       "      <td>NaN</td>\n",
       "      <td>NaN</td>\n",
       "      <td>NaN</td>\n",
       "      <td>NaN</td>\n",
       "      <td>NaN</td>\n",
       "      <td>NaN</td>\n",
       "      <td>NaN</td>\n",
       "      <td>NaN</td>\n",
       "      <td>NaN</td>\n",
       "      <td>NaN</td>\n",
       "    </tr>\n",
       "    <tr>\n",
       "      <th>1547</th>\n",
       "      <td>NaN</td>\n",
       "      <td>NaN</td>\n",
       "      <td>699974551023648769</td>\n",
       "      <td>NaN</td>\n",
       "      <td>NaN</td>\n",
       "      <td>NaN</td>\n",
       "      <td>NaN</td>\n",
       "      <td>False</td>\n",
       "      <td>False</td>\n",
       "      <td>0</td>\n",
       "      <td>...</td>\n",
       "      <td>NaN</td>\n",
       "      <td>NaN</td>\n",
       "      <td>NaN</td>\n",
       "      <td>NaN</td>\n",
       "      <td>NaN</td>\n",
       "      <td>NaN</td>\n",
       "      <td>NaN</td>\n",
       "      <td>NaN</td>\n",
       "      <td>NaN</td>\n",
       "      <td>NaN</td>\n",
       "    </tr>\n",
       "    <tr>\n",
       "      <th>...</th>\n",
       "      <td>...</td>\n",
       "      <td>...</td>\n",
       "      <td>...</td>\n",
       "      <td>...</td>\n",
       "      <td>...</td>\n",
       "      <td>...</td>\n",
       "      <td>...</td>\n",
       "      <td>...</td>\n",
       "      <td>...</td>\n",
       "      <td>...</td>\n",
       "      <td>...</td>\n",
       "      <td>...</td>\n",
       "      <td>...</td>\n",
       "      <td>...</td>\n",
       "      <td>...</td>\n",
       "      <td>...</td>\n",
       "      <td>...</td>\n",
       "      <td>...</td>\n",
       "      <td>...</td>\n",
       "      <td>...</td>\n",
       "      <td>...</td>\n",
       "    </tr>\n",
       "    <tr>\n",
       "      <th>15271</th>\n",
       "      <td>NaN</td>\n",
       "      <td>NaN</td>\n",
       "      <td>1474727853753180160</td>\n",
       "      <td>NaN</td>\n",
       "      <td>NaN</td>\n",
       "      <td>NaN</td>\n",
       "      <td>NaN</td>\n",
       "      <td>False</td>\n",
       "      <td>False</td>\n",
       "      <td>1</td>\n",
       "      <td>...</td>\n",
       "      <td>NaN</td>\n",
       "      <td>NaN</td>\n",
       "      <td>NaN</td>\n",
       "      <td>NaN</td>\n",
       "      <td>NaN</td>\n",
       "      <td>NaN</td>\n",
       "      <td>NaN</td>\n",
       "      <td>NaN</td>\n",
       "      <td>NaN</td>\n",
       "      <td>NaN</td>\n",
       "    </tr>\n",
       "    <tr>\n",
       "      <th>15420</th>\n",
       "      <td>NaN</td>\n",
       "      <td>NaN</td>\n",
       "      <td>1466757443384340485</td>\n",
       "      <td>NaN</td>\n",
       "      <td>NaN</td>\n",
       "      <td>NaN</td>\n",
       "      <td>NaN</td>\n",
       "      <td>False</td>\n",
       "      <td>False</td>\n",
       "      <td>0</td>\n",
       "      <td>...</td>\n",
       "      <td>NaN</td>\n",
       "      <td>NaN</td>\n",
       "      <td>NaN</td>\n",
       "      <td>NaN</td>\n",
       "      <td>NaN</td>\n",
       "      <td>NaN</td>\n",
       "      <td>NaN</td>\n",
       "      <td>NaN</td>\n",
       "      <td>NaN</td>\n",
       "      <td>NaN</td>\n",
       "    </tr>\n",
       "    <tr>\n",
       "      <th>15446</th>\n",
       "      <td>https://pbs.twimg.com/profile_images/152040629...</td>\n",
       "      <td>Munna Kumar Chauhan</td>\n",
       "      <td>1459889047116017664</td>\n",
       "      <td>NaN</td>\n",
       "      <td>NaN</td>\n",
       "      <td>NaN</td>\n",
       "      <td>NaN</td>\n",
       "      <td>True</td>\n",
       "      <td>False</td>\n",
       "      <td>0</td>\n",
       "      <td>...</td>\n",
       "      <td>NaN</td>\n",
       "      <td>NaN</td>\n",
       "      <td>NaN</td>\n",
       "      <td>NaN</td>\n",
       "      <td>NaN</td>\n",
       "      <td>NaN</td>\n",
       "      <td>NaN</td>\n",
       "      <td>NaN</td>\n",
       "      <td>NaN</td>\n",
       "      <td>NaN</td>\n",
       "    </tr>\n",
       "    <tr>\n",
       "      <th>15574</th>\n",
       "      <td>NaN</td>\n",
       "      <td>NaN</td>\n",
       "      <td>1473248329387622402</td>\n",
       "      <td>NaN</td>\n",
       "      <td>NaN</td>\n",
       "      <td>NaN</td>\n",
       "      <td>NaN</td>\n",
       "      <td>False</td>\n",
       "      <td>False</td>\n",
       "      <td>1</td>\n",
       "      <td>...</td>\n",
       "      <td>NaN</td>\n",
       "      <td>NaN</td>\n",
       "      <td>NaN</td>\n",
       "      <td>NaN</td>\n",
       "      <td>NaN</td>\n",
       "      <td>NaN</td>\n",
       "      <td>NaN</td>\n",
       "      <td>NaN</td>\n",
       "      <td>NaN</td>\n",
       "      <td>NaN</td>\n",
       "    </tr>\n",
       "    <tr>\n",
       "      <th>15597</th>\n",
       "      <td>https://pbs.twimg.com/profile_images/172244984...</td>\n",
       "      <td>Dr. Shubham Misra 🧠⚛️🇮🇳🇺🇸</td>\n",
       "      <td>1455932440036339719</td>\n",
       "      <td>NaN</td>\n",
       "      <td>NaN</td>\n",
       "      <td>NaN</td>\n",
       "      <td>NaN</td>\n",
       "      <td>False</td>\n",
       "      <td>False</td>\n",
       "      <td>0</td>\n",
       "      <td>...</td>\n",
       "      <td>NaN</td>\n",
       "      <td>NaN</td>\n",
       "      <td>NaN</td>\n",
       "      <td>NaN</td>\n",
       "      <td>NaN</td>\n",
       "      <td>NaN</td>\n",
       "      <td>NaN</td>\n",
       "      <td>NaN</td>\n",
       "      <td>NaN</td>\n",
       "      <td>NaN</td>\n",
       "    </tr>\n",
       "  </tbody>\n",
       "</table>\n",
       "<p>95 rows × 105 columns</p>\n",
       "</div>"
      ],
      "text/plain": [
       "                                                  avatar  \\\n",
       "904                                                  NaN   \n",
       "1120   https://pbs.twimg.com/profile_images/121597740...   \n",
       "1286                                                 NaN   \n",
       "1500                                                 NaN   \n",
       "1547                                                 NaN   \n",
       "...                                                  ...   \n",
       "15271                                                NaN   \n",
       "15420                                                NaN   \n",
       "15446  https://pbs.twimg.com/profile_images/152040629...   \n",
       "15574                                                NaN   \n",
       "15597  https://pbs.twimg.com/profile_images/172244984...   \n",
       "\n",
       "                        fullname                   id  \\\n",
       "904                          NaN  1363899157388222464   \n",
       "1120                 Piyush Daga  1285845237424730113   \n",
       "1286                         NaN  1475620540215791618   \n",
       "1500                         NaN  1004314560273080321   \n",
       "1547                         NaN   699974551023648769   \n",
       "...                          ...                  ...   \n",
       "15271                        NaN  1474727853753180160   \n",
       "15420                        NaN  1466757443384340485   \n",
       "15446        Munna Kumar Chauhan  1459889047116017664   \n",
       "15574                        NaN  1473248329387622402   \n",
       "15597  Dr. Shubham Misra 🧠⚛️🇮🇳🇺🇸  1455932440036339719   \n",
       "\n",
       "                                              images/0 images/1 images/2  \\\n",
       "904                                                NaN      NaN      NaN   \n",
       "1120   https://pbs.twimg.com/media/EdgsX80XkAAo0Ok.png      NaN      NaN   \n",
       "1286                                               NaN      NaN      NaN   \n",
       "1500                                               NaN      NaN      NaN   \n",
       "1547                                               NaN      NaN      NaN   \n",
       "...                                                ...      ...      ...   \n",
       "15271                                              NaN      NaN      NaN   \n",
       "15420                                              NaN      NaN      NaN   \n",
       "15446                                              NaN      NaN      NaN   \n",
       "15574                                              NaN      NaN      NaN   \n",
       "15597                                              NaN      NaN      NaN   \n",
       "\n",
       "      images/3  isQuote  isRetweet  likes  ... quotedTweet/links/21  \\\n",
       "904        NaN     True      False      0  ...                  NaN   \n",
       "1120       NaN     True      False      0  ...                  NaN   \n",
       "1286       NaN    False      False      1  ...                  NaN   \n",
       "1500       NaN    False      False      3  ...                  NaN   \n",
       "1547       NaN    False      False      0  ...                  NaN   \n",
       "...        ...      ...        ...    ...  ...                  ...   \n",
       "15271      NaN    False      False      1  ...                  NaN   \n",
       "15420      NaN    False      False      0  ...                  NaN   \n",
       "15446      NaN     True      False      0  ...                  NaN   \n",
       "15574      NaN    False      False      1  ...                  NaN   \n",
       "15597      NaN    False      False      0  ...                  NaN   \n",
       "\n",
       "      quotedTweet/links/22 quotedTweet/links/23 quotedTweet/links/24  \\\n",
       "904                    NaN                  NaN                  NaN   \n",
       "1120                   NaN                  NaN                  NaN   \n",
       "1286                   NaN                  NaN                  NaN   \n",
       "1500                   NaN                  NaN                  NaN   \n",
       "1547                   NaN                  NaN                  NaN   \n",
       "...                    ...                  ...                  ...   \n",
       "15271                  NaN                  NaN                  NaN   \n",
       "15420                  NaN                  NaN                  NaN   \n",
       "15446                  NaN                  NaN                  NaN   \n",
       "15574                  NaN                  NaN                  NaN   \n",
       "15597                  NaN                  NaN                  NaN   \n",
       "\n",
       "      quotedTweet/links/25 quotedTweet/links/26 quotedTweet/links/27  \\\n",
       "904                    NaN                  NaN                  NaN   \n",
       "1120                   NaN                  NaN                  NaN   \n",
       "1286                   NaN                  NaN                  NaN   \n",
       "1500                   NaN                  NaN                  NaN   \n",
       "1547                   NaN                  NaN                  NaN   \n",
       "...                    ...                  ...                  ...   \n",
       "15271                  NaN                  NaN                  NaN   \n",
       "15420                  NaN                  NaN                  NaN   \n",
       "15446                  NaN                  NaN                  NaN   \n",
       "15574                  NaN                  NaN                  NaN   \n",
       "15597                  NaN                  NaN                  NaN   \n",
       "\n",
       "      quotedTweet/links/28 quotedTweet/links/29 images/6  \n",
       "904                    NaN                  NaN      NaN  \n",
       "1120                   NaN                  NaN      NaN  \n",
       "1286                   NaN                  NaN      NaN  \n",
       "1500                   NaN                  NaN      NaN  \n",
       "1547                   NaN                  NaN      NaN  \n",
       "...                    ...                  ...      ...  \n",
       "15271                  NaN                  NaN      NaN  \n",
       "15420                  NaN                  NaN      NaN  \n",
       "15446                  NaN                  NaN      NaN  \n",
       "15574                  NaN                  NaN      NaN  \n",
       "15597                  NaN                  NaN      NaN  \n",
       "\n",
       "[95 rows x 105 columns]"
      ]
     },
     "execution_count": 8,
     "metadata": {},
     "output_type": "execute_result"
    }
   ],
   "source": [
    "df[df['text'].isna()]"
   ]
  },
  {
   "cell_type": "code",
   "execution_count": 9,
   "id": "5fd35a22-51ed-46fd-9eb7-5e42cd96b8f1",
   "metadata": {},
   "outputs": [
    {
     "data": {
      "text/plain": [
       "images/6                15746\n",
       "quotedTweet/links/28    15746\n",
       "links/29                15746\n",
       "quotedTweet/links/24    15746\n",
       "quotedTweet/links/25    15746\n",
       "                        ...  \n",
       "user/totalLikes             0\n",
       "user/totalTweets            0\n",
       "user/url                    0\n",
       "user/verified               0\n",
       "timestamp                   0\n",
       "Length: 105, dtype: int64"
      ]
     },
     "execution_count": 9,
     "metadata": {},
     "output_type": "execute_result"
    }
   ],
   "source": [
    "df = df.drop(df[df['text'] == 'NaN'].index)\n",
    "df = df.drop([1027, 2068, 3340, 3345, 3497])\n",
    "df.isna().sum().sort_values(ascending=False)"
   ]
  },
  {
   "cell_type": "code",
   "execution_count": 10,
   "id": "4c52bfcf-ac8f-4a3b-9b91-f8d44af202bc",
   "metadata": {},
   "outputs": [],
   "source": [
    "sentiment_df = df[['id', 'text', 'searchQuery']] # Filtering Columns"
   ]
  },
  {
   "cell_type": "code",
   "execution_count": 11,
   "id": "bef651fb-a9d1-4116-ac33-5bfc288d0b90",
   "metadata": {},
   "outputs": [
    {
     "data": {
      "text/plain": [
       "<bound method NDFrame.head of                         id                                               text  \\\n",
       "0      1420588932744372224  congratulations victor debbarma successfully c...   \n",
       "1      1442020496892039176  bhai school meh hate kya manmohan singh govern...   \n",
       "2      1475705435441164288                             college fisheries सरहम   \n",
       "3      1476938029516218371  sinceritycooperation would never erased hearts...   \n",
       "4      1465727618540396545  azadikaamritmahotsav kamalpur govt degree college   \n",
       "...                    ...                                                ...   \n",
       "15747  1471082493302304769  pratibimb kermesse along car club planned plan...   \n",
       "15748  1470981670526279681  free vaccination drive ass volunteers staff me...   \n",
       "15749  1470768913583640584  first bank account opened joining college 1992...   \n",
       "15750  1470666125910241280  wearing sandals college cuz sleeping shoe rack...   \n",
       "15751  1470607598781087745  posted photo jelly pig girls hostel delhi 8882...   \n",
       "\n",
       "      searchQuery  \n",
       "0             phd  \n",
       "1             phd  \n",
       "2         College  \n",
       "3         College  \n",
       "4         College  \n",
       "...           ...  \n",
       "15747     college  \n",
       "15748     college  \n",
       "15749     college  \n",
       "15750     college  \n",
       "15751     college  \n",
       "\n",
       "[15747 rows x 3 columns]>"
      ]
     },
     "execution_count": 11,
     "metadata": {},
     "output_type": "execute_result"
    }
   ],
   "source": [
    "sentiment_df.head"
   ]
  },
  {
   "cell_type": "code",
   "execution_count": 12,
   "id": "c89deb17-8857-4f91-af06-9493961cf1b7",
   "metadata": {},
   "outputs": [],
   "source": [
    "import torch\n",
    "device = \"cuda:0\" if torch.cuda.is_available() else \"cpu\""
   ]
  },
  {
   "cell_type": "markdown",
   "id": "b31b3262-1427-46f6-b9ef-e3a62f6a1a41",
   "metadata": {},
   "source": [
    "ROBERTA"
   ]
  },
  {
   "cell_type": "code",
   "execution_count": 13,
   "id": "b470513b-6172-4fbf-9153-3fb289a1d931",
   "metadata": {},
   "outputs": [
    {
     "data": {
      "application/vnd.jupyter.widget-view+json": {
       "model_id": "eaa95542358842afb7977bcdaab7fa1f",
       "version_major": 2,
       "version_minor": 0
      },
      "text/plain": [
       "config.json:   0%|          | 0.00/747 [00:00<?, ?B/s]"
      ]
     },
     "metadata": {},
     "output_type": "display_data"
    },
    {
     "name": "stderr",
     "output_type": "stream",
     "text": [
      "C:\\Users\\naman\\AppData\\Local\\Programs\\Python\\Python310\\lib\\site-packages\\huggingface_hub\\file_download.py:147: UserWarning: `huggingface_hub` cache-system uses symlinks by default to efficiently store duplicated files but your machine does not support them in C:\\Users\\naman\\.cache\\huggingface\\hub. Caching files will still work but in a degraded version that might require more space on your disk. This warning can be disabled by setting the `HF_HUB_DISABLE_SYMLINKS_WARNING` environment variable. For more details, see https://huggingface.co/docs/huggingface_hub/how-to-cache#limitations.\n",
      "To support symlinks on Windows, you either need to activate Developer Mode or to run Python as an administrator. In order to see activate developer mode, see this article: https://docs.microsoft.com/en-us/windows/apps/get-started/enable-your-device-for-development\n",
      "  warnings.warn(message)\n"
     ]
    },
    {
     "data": {
      "application/vnd.jupyter.widget-view+json": {
       "model_id": "63fa71e0d1eb40d8be2e2c7467897445",
       "version_major": 2,
       "version_minor": 0
      },
      "text/plain": [
       "vocab.json:   0%|          | 0.00/899k [00:00<?, ?B/s]"
      ]
     },
     "metadata": {},
     "output_type": "display_data"
    },
    {
     "data": {
      "application/vnd.jupyter.widget-view+json": {
       "model_id": "89d40544138346f89757a47f02abead5",
       "version_major": 2,
       "version_minor": 0
      },
      "text/plain": [
       "merges.txt:   0%|          | 0.00/456k [00:00<?, ?B/s]"
      ]
     },
     "metadata": {},
     "output_type": "display_data"
    },
    {
     "data": {
      "application/vnd.jupyter.widget-view+json": {
       "model_id": "78caa71a4a4642ac9c3fa70842c05c49",
       "version_major": 2,
       "version_minor": 0
      },
      "text/plain": [
       "special_tokens_map.json:   0%|          | 0.00/150 [00:00<?, ?B/s]"
      ]
     },
     "metadata": {},
     "output_type": "display_data"
    },
    {
     "data": {
      "application/vnd.jupyter.widget-view+json": {
       "model_id": "48fb75009ef74e0b863a02ba6bc23c23",
       "version_major": 2,
       "version_minor": 0
      },
      "text/plain": [
       "pytorch_model.bin:   0%|          | 0.00/499M [00:00<?, ?B/s]"
      ]
     },
     "metadata": {},
     "output_type": "display_data"
    }
   ],
   "source": [
    "from transformers import AutoTokenizer, AutoModelForSequenceClassification\n",
    "\n",
    "tokenizer = AutoTokenizer.from_pretrained(\"cardiffnlp/twitter-roberta-base-sentiment\")\n",
    "\n",
    "model = AutoModelForSequenceClassification.from_pretrained(\"cardiffnlp/twitter-roberta-base-sentiment\").to(device)"
   ]
  },
  {
   "cell_type": "code",
   "execution_count": 14,
   "id": "a3cbd94e-cb8d-463a-81d7-3a99ffb14e76",
   "metadata": {},
   "outputs": [],
   "source": [
    "import urllib\n",
    "import csv\n",
    "labels=[]\n",
    "task = 'sentiment'\n",
    "mapping_link = f\"https://raw.githubusercontent.com/cardiffnlp/tweeteval/main/datasets/{task}/mapping.txt\"\n",
    "with urllib.request.urlopen(mapping_link) as f:\n",
    "    html = f.read().decode('utf-8').split(\"\\n\")\n",
    "    csvreader = csv.reader(html, delimiter='\\t')\n",
    "labels = [row[1] for row in csvreader if len(row) > 1]"
   ]
  },
  {
   "cell_type": "code",
   "execution_count": 17,
   "id": "00af457a-1874-4f74-9c06-b1878d73fde0",
   "metadata": {},
   "outputs": [
    {
     "name": "stderr",
     "output_type": "stream",
     "text": [
      "100%|██████████████████████████████████████████████████████████████████████████████| 1575/1575 [02:15<00:00, 11.61it/s]\n"
     ]
    }
   ],
   "source": [
    "from scipy.special import softmax\n",
    "from tqdm import tqdm\n",
    "import numpy as np\n",
    "import torch\n",
    "import pandas as pd\n",
    "\n",
    "BATCH_SIZE = 10\n",
    "MAX_LEN = 128\n",
    "scores_all = np.empty((0, len(labels)))\n",
    "text_all = sentiment_df['text'].to_list()\n",
    "n = len(text_all)\n",
    "\n",
    "with torch.no_grad():\n",
    "    for start_idx in tqdm(range(0, n, BATCH_SIZE)):\n",
    "        end_idx = min(start_idx + BATCH_SIZE, n)\n",
    "        batch_text = [str(text) for text in text_all[start_idx:end_idx]]  # Ensure batch_text is a list of strings\n",
    "\n",
    "        encoded_input = tokenizer.batch_encode_plus(\n",
    "            batch_text,\n",
    "            max_length=MAX_LEN,\n",
    "            padding='max_length',\n",
    "            truncation=True,\n",
    "            return_tensors='pt'\n",
    "        ).to(device)\n",
    "\n",
    "        output = model(**encoded_input)\n",
    "        scores = output[0].detach().cpu().numpy()\n",
    "        scores = softmax(scores, axis=1)\n",
    "        scores_all = np.concatenate((scores_all, scores), axis=0)\n",
    "\n",
    "        del encoded_input, output, scores\n",
    "        torch.cuda.empty_cache()\n",
    "\n",
    "# Update sentiment_df with the scores\n",
    "sentiment_df[labels] = pd.DataFrame(scores_all, columns=labels)\n"
   ]
  },
  {
   "cell_type": "code",
   "execution_count": 18,
   "id": "b0ee7517-550d-49c1-96af-c18f85b567cf",
   "metadata": {},
   "outputs": [],
   "source": [
    "sentiment_df.to_csv(\"./Tweets_Sentiment_Analysis_RoBERTa_Raw_Values.csv\", index=False)"
   ]
  },
  {
   "cell_type": "markdown",
   "id": "50b0bc91-3f90-4c5e-b238-468d93b17911",
   "metadata": {},
   "source": [
    "BOW SENTIMENT ANALYSIS DATASET BUILD"
   ]
  },
  {
   "cell_type": "code",
   "execution_count": 21,
   "id": "97d5151f-d4cf-46df-90e7-f9219cf8d84a",
   "metadata": {
    "scrolled": true
   },
   "outputs": [],
   "source": [
    "from textblob import TextBlob\n",
    "\n",
    "# Convert 'text' column to strings\n",
    "sentiment_df['text'] = sentiment_df['text'].astype(str)\n",
    "\n",
    "# Define the sentiment analysis function\n",
    "def get_sentiment(tweet):\n",
    "    sentiment = TextBlob(tweet).sentiment\n",
    "    return sentiment.polarity, sentiment.subjectivity\n",
    "\n",
    "# Apply sentiment analysis to the 'text' column\n",
    "sentiment_df['sentiment'] = sentiment_df['text'].apply(get_sentiment)\n"
   ]
  },
  {
   "cell_type": "code",
   "execution_count": 22,
   "id": "d097df4c-e2fa-4aa8-aa00-e47ee957a254",
   "metadata": {},
   "outputs": [],
   "source": [
    "sentiment_df['polarity'] = sentiment_df['sentiment'].apply(lambda x:x[0])\n",
    "sentiment_df['subjectivity'] = sentiment_df['sentiment'].apply(lambda x:x[0])"
   ]
  },
  {
   "cell_type": "code",
   "execution_count": 23,
   "id": "6381f3a9-1456-469f-9dfe-56cef23f2d0b",
   "metadata": {},
   "outputs": [],
   "source": [
    "sentiment_df.drop('sentiment', axis=1, inplace=True)"
   ]
  },
  {
   "cell_type": "code",
   "execution_count": 24,
   "id": "0fc1ced6-9b27-426a-8819-aea88a49e96e",
   "metadata": {},
   "outputs": [],
   "source": [
    "sentiment_df.to_csv(\"./Tweets_Sentiment_Analysis_BOW_Raw_Values.csv\", index=False)"
   ]
  },
  {
   "cell_type": "markdown",
   "id": "6592a90d-6791-4fd0-990a-81696b92ffbd",
   "metadata": {},
   "source": [
    "EMOTIONAL ANALYSIS"
   ]
  },
  {
   "cell_type": "code",
   "execution_count": 25,
   "id": "8d504bad-0d31-4ea6-afb4-a1a593b770ec",
   "metadata": {},
   "outputs": [
    {
     "data": {
      "application/vnd.jupyter.widget-view+json": {
       "model_id": "37b69a1232684c578276c0e8c47a2635",
       "version_major": 2,
       "version_minor": 0
      },
      "text/plain": [
       "config.json:   0%|          | 0.00/768 [00:00<?, ?B/s]"
      ]
     },
     "metadata": {},
     "output_type": "display_data"
    },
    {
     "data": {
      "application/vnd.jupyter.widget-view+json": {
       "model_id": "6a6c60ae267a4d06866f4604c998f12d",
       "version_major": 2,
       "version_minor": 0
      },
      "text/plain": [
       "vocab.json:   0%|          | 0.00/899k [00:00<?, ?B/s]"
      ]
     },
     "metadata": {},
     "output_type": "display_data"
    },
    {
     "data": {
      "application/vnd.jupyter.widget-view+json": {
       "model_id": "85c31ae51fff4da4932811990071e49d",
       "version_major": 2,
       "version_minor": 0
      },
      "text/plain": [
       "merges.txt:   0%|          | 0.00/456k [00:00<?, ?B/s]"
      ]
     },
     "metadata": {},
     "output_type": "display_data"
    },
    {
     "data": {
      "application/vnd.jupyter.widget-view+json": {
       "model_id": "87579b352f7e453cb62c0ddc7cc8a6d6",
       "version_major": 2,
       "version_minor": 0
      },
      "text/plain": [
       "special_tokens_map.json:   0%|          | 0.00/150 [00:00<?, ?B/s]"
      ]
     },
     "metadata": {},
     "output_type": "display_data"
    },
    {
     "data": {
      "application/vnd.jupyter.widget-view+json": {
       "model_id": "81bb2d5424ed4b4bbd9b659a15cbb51d",
       "version_major": 2,
       "version_minor": 0
      },
      "text/plain": [
       "pytorch_model.bin:   0%|          | 0.00/499M [00:00<?, ?B/s]"
      ]
     },
     "metadata": {},
     "output_type": "display_data"
    }
   ],
   "source": [
    "emotion_tokenizer = AutoTokenizer.from_pretrained(\"cardiffnlp/twitter-roberta-base-emotion\")\n",
    "\n",
    "emotion_model = AutoModelForSequenceClassification.from_pretrained(\"cardiffnlp/twitter-roberta-base-emotion\").to(device)"
   ]
  },
  {
   "cell_type": "code",
   "execution_count": 39,
   "id": "7b1bf31a-cae8-43f3-8a56-7d86cc99f7fb",
   "metadata": {},
   "outputs": [],
   "source": [
    "task='emotion'\n",
    "labels=[]\n",
    "mapping_link = f\"https://raw.githubusercontent.com/cardiffnlp/tweeteval/main/datasets/{task}/mapping.txt\"\n",
    "with urllib.request.urlopen(mapping_link) as f:\n",
    "    html = f.read().decode('utf-8').split(\"\\n\")\n",
    "    csvreader = csv.reader(html, delimiter='\\t')\n",
    "labels = [row[1] for row in csvreader if len(row) > 1]"
   ]
  },
  {
   "cell_type": "code",
   "execution_count": null,
   "id": "0034ae8d-b62c-40b2-b36e-b4b2c90d4951",
   "metadata": {},
   "outputs": [],
   "source": []
  }
 ],
 "metadata": {
  "kernelspec": {
   "display_name": "Python 3 (ipykernel)",
   "language": "python",
   "name": "python3"
  },
  "language_info": {
   "codemirror_mode": {
    "name": "ipython",
    "version": 3
   },
   "file_extension": ".py",
   "mimetype": "text/x-python",
   "name": "python",
   "nbconvert_exporter": "python",
   "pygments_lexer": "ipython3",
   "version": "3.10.11"
  }
 },
 "nbformat": 4,
 "nbformat_minor": 5
}
