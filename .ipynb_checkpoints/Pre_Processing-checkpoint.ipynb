{
 "cells": [
  {
   "cell_type": "code",
   "execution_count": 31,
   "id": "f40e9045-91aa-4e98-95a4-ac38a886a8b0",
   "metadata": {},
   "outputs": [
    {
     "name": "stderr",
     "output_type": "stream",
     "text": [
      "[nltk_data] Downloading package stopwords to\n",
      "[nltk_data]     C:\\Users\\naman\\AppData\\Roaming\\nltk_data...\n",
      "[nltk_data]   Package stopwords is already up-to-date!\n",
      "[nltk_data] Downloading package punkt to\n",
      "[nltk_data]     C:\\Users\\naman\\AppData\\Roaming\\nltk_data...\n",
      "[nltk_data]   Package punkt is already up-to-date!\n"
     ]
    },
    {
     "name": "stdout",
     "output_type": "stream",
     "text": [
      "Processed data (with duplicates removed) saved to west_bengal_clean.csv\n"
     ]
    }
   ],
   "source": [
    "import pandas as pd\n",
    "import re\n",
    "import string\n",
    "import nltk\n",
    "from nltk.corpus import stopwords\n",
    "from deep_translator import GoogleTranslator\n",
    "from spellchecker import SpellChecker\n",
    "from emoji import demojize\n",
    "\n",
    "nltk.download('stopwords')\n",
    "nltk.download('punkt')\n",
    "\n",
    "def preprocess_and_spellcheck(tweet):\n",
    "    # Remove URLs\n",
    "    tweet = re.sub(r'http\\S+', '', tweet)\n",
    "    \n",
    "    # Remove user mentions\n",
    "    tweet = re.sub(r'@\\w+', '', tweet)\n",
    "    \n",
    "    # Lowercasing\n",
    "    tweet = tweet.lower()\n",
    "    \n",
    "    # Remove special characters and punctuation\n",
    "    tweet = re.sub(r'[' + re.escape(string.punctuation) + ']', '', tweet)\n",
    "    \n",
    "    # Remove emojis\n",
    "    tweet = demojize(tweet)\n",
    "    tweet = re.sub(r':[a-z_]+:', '', tweet)\n",
    "    \n",
    "    # Remove stopwords\n",
    "    stop_words = set(stopwords.words('english'))\n",
    "    words = tweet.split()\n",
    "    tweet = ' '.join([word for word in words if word.lower() not in stop_words])\n",
    "    \n",
    "    # Tokenization (split the text into words)\n",
    "    tokens = nltk.word_tokenize(tweet)\n",
    "    \n",
    "    # Remove non-alphanumeric characters\n",
    "    tokens = [word for word in tokens if word.isalnum()]\n",
    "    \n",
    "    # Spell checking\n",
    "    spell = SpellChecker()\n",
    "    tokens = [spell.correction(word) if spell.correction(word) is not None else word for word in tokens]\n",
    "    \n",
    "    # Remove short words\n",
    "    tokens = [word for word in tokens if len(word) > 2]\n",
    "    \n",
    "    # Rejoin the tokens into a single string\n",
    "    preprocessed_tweet = ' '.join(tokens)\n",
    "    \n",
    "    return preprocessed_tweet\n",
    "\n",
    "# Load the CSV file into a pandas DataFrame\n",
    "csv_file_name = 'west_bengal390.csv'  # Replace with your actual file name\n",
    "df = pd.read_csv(csv_file_name)\n",
    "\n",
    "# Remove duplicate rows based on the 'text' column\n",
    "df = df.drop_duplicates(subset=['text'])\n",
    "\n",
    "# Apply preprocessing, spell checking, and remove emojis to each tweet in the 'text' column\n",
    "df['text'] = df['text'].apply(preprocess_and_spellcheck)\n",
    "\n",
    "# Save the modified DataFrame to a new CSV file\n",
    "processed_csv_file_path = 'west_bengal_clean.csv'\n",
    "df.to_csv(processed_csv_file_path, index=False)\n",
    "\n",
    "print(f\"Processed data (with duplicates removed) saved to {processed_csv_file_path}\")\n"
   ]
  },
  {
   "cell_type": "code",
   "execution_count": null,
   "id": "2fc20275-1c7d-441f-a858-2ee456437083",
   "metadata": {},
   "outputs": [],
   "source": []
  }
 ],
 "metadata": {
  "kernelspec": {
   "display_name": "Python 3 (ipykernel)",
   "language": "python",
   "name": "python3"
  },
  "language_info": {
   "codemirror_mode": {
    "name": "ipython",
    "version": 3
   },
   "file_extension": ".py",
   "mimetype": "text/x-python",
   "name": "python",
   "nbconvert_exporter": "python",
   "pygments_lexer": "ipython3",
   "version": "3.10.11"
  }
 },
 "nbformat": 4,
 "nbformat_minor": 5
}
